{
    "cells": [
        {
            "cell_type": "markdown",
            "metadata": {
                "collapsed": true
            },
            "source": "# Capstone Project - The Battle of Neighborhoods in London"
        },
        {
            "cell_type": "markdown",
            "metadata": {},
            "source": "## Introduction and scope of the problem"
        },
        {
            "cell_type": "markdown",
            "metadata": {},
            "source": "London is the capital and largest city of England and United Kingdom (UK), as well as one of most important cities in western part of Europe, with a total population of around 9 million distributed by their 33 boroughs (including the City of London). Although it is well known as a crucial metropolis with a inumerous offer, quality of live, a diverse range of people and cultures, etc., London is also a city with a vast criminal record and therefore this variable plays an important role, or being even decisive, at the time of choosing an house when we decide to move and to settle a new life there. Based on this premise, the project main goal can be posed by the following question: what is the most suitable/ safest area to live within London city? Puting the hands on the data will help us to discover the answer. "
        },
        {
            "cell_type": "markdown",
            "metadata": {},
            "source": "## Data"
        },
        {
            "cell_type": "markdown",
            "metadata": {},
            "source": "In order to answer the question, and to achieve the objective described above, available free data is used and analised throughout the project, according to the London criminal records (e.g., number and type of crimes, evolution of criminality over time, which boroughs are the most dangerous and safest, etc.) and, at the end, the analysis of venues across different neighborhoods will also be taken into account for decision/ recommendation making.\n\nIn short, data manipulation is firstly performed using the main and additional datasets (see references below), as well as the exploratory analysis of the data for a more comprehensive interpretation through the combination of several variables of London criminal records. After choosing the most suitable borough(s), location data from Foursquare API is used to\nto explore neighborhoods within given boroughs of London, retrieving the most common venue categories in each neighborhood. This is the final part of the project, the so-called Segmentation and Clustering process, where lastly consists in the grouping of the neighborhoods into clusters (applying k-means clustering algorithm) and also in the use of Folium library to visualize the neighborhoods in London and their emerging clusters.\n\n##### Main dataset: London Crime Data between 2008-2016 (source: https://www.kaggle.com/jboysen/london-crime).\n\n- Variables of main dataset:\n\n    - lsoa_code (code for Lower Super Output Area in Greater London (lsoa)).\n    - borough (Name of London boroughs).\n    - major_category: Major categorization of crimes.\n    - minor_category: Minor categorization of crimes according to major category.\n    - value: Number of crimes monthly reported in given borough.\n    - year: Year of reported crimes, Jan/2008 - Dez/2016.\n    - month: Month of reported crimes, Jan - Dez (1-12).\n    \n##### Additional dataset: List of London Boroughs (source: https://en.wikipedia.org/wiki/List_of_London_boroughs).\n\n- Variables of additional dataset:\n\n    - Borough\n    - Inner\n    - Status Local Authority\n    - Political Control\n    - Headquarters\n    - Area\n    - Population\n    - Coordinates\n    \nAlthough the additional dataset has several variables available, only Borough, Population and Coordinates are the variables used for this project. \n    "
        },
        {
            "cell_type": "code",
            "execution_count": null,
            "metadata": {},
            "outputs": [],
            "source": ""
        }
    ],
    "metadata": {
        "kernelspec": {
            "display_name": "Python 3.6",
            "language": "python",
            "name": "python3"
        },
        "language_info": {
            "codemirror_mode": {
                "name": "ipython",
                "version": 3
            },
            "file_extension": ".py",
            "mimetype": "text/x-python",
            "name": "python",
            "nbconvert_exporter": "python",
            "pygments_lexer": "ipython3",
            "version": "3.6.9"
        }
    },
    "nbformat": 4,
    "nbformat_minor": 1
}